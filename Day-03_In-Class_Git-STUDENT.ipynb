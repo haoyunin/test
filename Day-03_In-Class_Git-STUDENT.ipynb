{
 "cells": [
  {
   "cell_type": "markdown",
   "metadata": {},
   "source": [
    "### <p style=\"text-align: right;\"> &#9989; Put your name here</p>\n",
    "#### <p style=\"text-align: right;\"> &#9989; Put your group member names here</p>"
   ]
  },
  {
   "cell_type": "markdown",
   "metadata": {},
   "source": [
    "# Day 3 In-Class Assignment: Git\n",
    "\n",
    "<img src=\"https://git-scm.com/images/logos/downloads/Git-Logo-1788C.png\" width=\"250px\">"
   ]
  },
  {
   "cell_type": "markdown",
   "metadata": {},
   "source": [
    "## Goals for today's pre-class assignment \n",
    "\n",
    "1. Make sure that everyone has a copy of the assignments repository for accessing all future assignments\n",
    "2. Learn the basics of Git for version control and repository management.\n",
    "3. Understand how to push and pull changes in a remote Git repository.\n",
    "\n",
    "### Assignment instructions\n",
    "\n",
    "Work through the notebook making sure to write all necessary code and answer any questions.\n",
    "\n",
    "**This assignment is due by the end of class,** and should be uploaded into the \"In-Class assignments\" dropbox folder for Day 3.  Submission instructions can be found at the end of the notebook.\n",
    "\n",
    "## Agenda for today:\n",
    "\n",
    "1. Review of questions about pre-class assignment\n",
    "2. Download the class Git repository (if not completed last time)\n",
    "3. Cheatsheet for Git commands\n",
    "4. Follow along Git Tutorial\n",
    "5. More Git practice (repository round robin)\n",
    "6. Assignment wrap-up"
   ]
  },
  {
   "cell_type": "markdown",
   "metadata": {},
   "source": [
    "----\n",
    "# 1. Review of pre-class assignment\n",
    "\n",
    "Did anyone have any specific issues with the pre-class assignment?"
   ]
  },
  {
   "cell_type": "markdown",
   "metadata": {},
   "source": [
    "---\n",
    "# 2. Download the class Git repository\n",
    "\n",
    "**If you didn't finish this during the last class period, do so now!**\n",
    "\n",
    "### Step 1: Create a GitHub account\n",
    "If you haven't done so already, go to the GitHub website and create an account using your @msu.edu email addres. Then, log into GitHub:\n",
    "\n",
    "[https://github.com]()\n",
    "\n",
    "**Important**: Once your account is set up, send your GitHub username to your instructor via Slack. The course content is maintained inside a private GitHub repository, so you need to be given access to the repository before you'll be able to \"fork\" and \"clone\" the repository. The course repository is maintained at [https://github.com/msu-cmse-courses/cmse202-S18-assignments]().\n",
    "\n",
    "### Step 2: Fork and Clone the course repository\n",
    "&#9989; Do This - Once you have access to the course assignment repository, you need to \"fork\" the repository by clicking the \"Fork\" button at the upper right of the repository page. This will create a duplicate of the current state of the assignment repository that you control. This will be a location where you can commit your own changes to the assignments, add your own content, etc.\n",
    "\n",
    "Once you've forked the repository, you need to clone it to your computer. Change your current working directory to \"~/CMSE202\" and run the following command (where you've replaced < yourGitHubUserName > with your user name):  \n",
    "\n",
    "`git clone https://github.com/<yourGitHubUserName>/cmse202-S18-assignments.git`\n",
    "\n",
    "The above command should have created a folder named \"cmse202-S18-assignments\" in your CMSE202 directory. This is now your cloned version of the course repository.\n",
    "\n",
    "**NOTE: ** We will be using this repository for all future assignments.  To update your fork of the repository, please use the following command to pull from the original remote repository:\n",
    "\n",
    "`git pull https://github.com/msu-cmse-courses/cmse202-S18-assignments.git`\n",
    "\n",
    "We'll be spending more time learning the ins and outs of Git in the next class."
   ]
  },
  {
   "cell_type": "markdown",
   "metadata": {},
   "source": [
    "----\n",
    "# 3. Cheat Sheet for git commands\n",
    "In class we will be exploring git and some of the most common commands. Note there are a lot of other commands for using git as it is a very powerful tool.  However, we can't cover everything so this list just provides the most basic commands that let you create and contribute to a repository for class."
   ]
  },
  {
   "cell_type": "markdown",
   "metadata": {},
   "source": [
    "## Checking out a git repository\n",
    "\n",
    "We have already done this one in class multiple times.  You need a URL for the repository. You also need to have permissions to access the repository.  If the repository is public there is no problem. If the repository is private you will need a password, or may need to set up an ssh key, which we'll talk about at a later time. \n",
    "\n",
    "* **git clone URL** - Check out initial git repository"
   ]
  },
  {
   "cell_type": "markdown",
   "metadata": {},
   "source": [
    "## Creating a new git repository\n",
    "\n",
    "Creating a local/empty repository is easy. You can just ues the git init command. Just make sure you run the command in the directory that you want to turn into a repository. \n",
    "\n",
    "* **git init .** - Create a new/empty repository. \n",
    "\n",
    "This only creates a local git repository. To sync this repository with a server (gitlab or github) you need to create a \"new project\" on the website and follow the provided directions for syncing your local repository with the remote one."
   ]
  },
  {
   "cell_type": "markdown",
   "metadata": {},
   "source": [
    "## Pulling in changes from the server. \n",
    "\n",
    "We tested this one earlier. You can just run the \"Git pull\" command to pull from the default repository: \n",
    "\n",
    "* **git pull** - Download changes from the central repository.\n",
    "\n",
    "Or, if you want to pull from a different repository, you can specific the repository path:\n",
    "\n",
    "* **git pull < path to remote repository > ** - Download changes from another repository.\n",
    "\n",
    "NOTE: \"git pull\" can be tricky if you have modified any files that will be changed by the git pull and you have not committed the file.  See information about merging git."
   ]
  },
  {
   "cell_type": "markdown",
   "metadata": {},
   "source": [
    "## Adding and Commiting a change\n",
    "\n",
    "The most common activity on a git repository is commiting a change.  Typically you are either adding a new file or changing an existing file.  The steps I almost always use are as follows:\n",
    "\n",
    "* **git status** - check to see what files are different\n",
    "    * Existing files that have been changed will be listed under \"Changes not staged for commit:\"\n",
    "    * New files that have been added will be listed under \"Untracked files:\"\n",
    "* **git add filename** - Add new files or changed files to the current commit.\n",
    "* **git status** - check to make sure the files are included in the next commit. \n",
    "    * These files will be listed under \"Changes to be committed:\"\n",
    "* **git commit -m \"Message about the changes\"** - Commit the changes to the repository.  You are now tracking the changes locally.\n",
    "* **git commit -a** - Add modified files for staging and commit them all in one command.\n",
    "* **git push** - Push all committed changes the changes to the server.\n",
    "\n",
    "**Some guidelines:**  \n",
    "* Commit early and often. \n",
    "* Do not commit binary files (Unless you really mean it)\n",
    "* To not \"Push\" any changes that break something that was working."
   ]
  },
  {
   "cell_type": "markdown",
   "metadata": {},
   "source": [
    "---\n",
    "# 4. Follow-along Git Tutorial\n",
    "\n",
    "For this part of the assignment we're going to work through an instructor-led Git tutorial. If you get stuck at any point raise your hand and either the TA or LA will help you out. The goal of the tutorial is to walk you through what you can expect when working with Git and give you a bit of practice with managing a Git repository."
   ]
  },
  {
   "cell_type": "markdown",
   "metadata": {},
   "source": [
    "----\n",
    "# 5. More Git practice: Git repository \"Round Robin\"\n",
    "**If time allows**, work through this activity. In this activity you'll be continuing to play around with Git and to get some practice for future homeworks."
   ]
  },
  {
   "cell_type": "markdown",
   "metadata": {},
   "source": [
    "**Step 1:** Go to [http://github.com/]() individually create a git repository.  Call this repository USERNAME_git_test where USERNAME is your MSUNetID.  "
   ]
  },
  {
   "cell_type": "markdown",
   "metadata": {},
   "source": [
    "<font size=6 color=\"#009600\">&#9998;</font> Note any problems you had with the above step (or any questions) here."
   ]
  },
  {
   "cell_type": "markdown",
   "metadata": {},
   "source": [
    "**Step 2:** Clone the repository into your CMSE202/repositories directory. The repository is probably still empty so you will get a warning."
   ]
  },
  {
   "cell_type": "markdown",
   "metadata": {},
   "source": [
    "<font size=6 color=\"#009600\">&#9998;</font> Note any problems you had with the above step (or any questions) here."
   ]
  },
  {
   "cell_type": "markdown",
   "metadata": {},
   "source": [
    "**Step 3:** Create a new text file (Name the file README.md or README.txt) inside of the repository folder. Include the following information in the readme file:\n",
    "\n",
    "* Name\n",
    "* Email Address\n",
    "* What is your major? \n",
    "* What year are you in School?\n",
    "* Where are you from?\n",
    "* What is your programming background?\n"
   ]
  },
  {
   "cell_type": "markdown",
   "metadata": {},
   "source": [
    "<font size=6 color=\"#009600\">&#9998;</font> Note any problems you had with the above step (or any questions) here."
   ]
  },
  {
   "cell_type": "markdown",
   "metadata": {},
   "source": [
    "**Step 4:** Add and commit the change to your repository.  Make sure you push the change to the central repository. "
   ]
  },
  {
   "cell_type": "markdown",
   "metadata": {},
   "source": [
    "<font size=6 color=\"#009600\">&#9998;</font> Note any problems you had with the above step (or any questions) here."
   ]
  },
  {
   "cell_type": "markdown",
   "metadata": {},
   "source": [
    "**Step 5:** Check the website and make sure you see the file and can access it. "
   ]
  },
  {
   "cell_type": "markdown",
   "metadata": {},
   "source": [
    "<font size=6 color=\"#009600\">&#9998;</font> Note any problems you had with the above step (or any questions) here."
   ]
  },
  {
   "cell_type": "markdown",
   "metadata": {},
   "source": [
    "**Step 6:** Add 2 of your groupmates and the instructors to the project using the web interface. To do this, go to the repository settings tab and look for the section labeled \"Collaborators & teams\". Make sure that each collaborator has \"Write\" access."
   ]
  },
  {
   "cell_type": "markdown",
   "metadata": {},
   "source": [
    "<font size=6 color=\"#009600\">&#9998;</font> Note any problems you had with the above step (or any questions) here."
   ]
  },
  {
   "cell_type": "markdown",
   "metadata": {},
   "source": [
    "**Step 7:** Have you groupmates clone your repository and clone the repositories that you've been added to."
   ]
  },
  {
   "cell_type": "markdown",
   "metadata": {},
   "source": [
    "<font size=6 color=\"#009600\">&#9998;</font> Note any problems you had with the above step (or any questions) here."
   ]
  },
  {
   "cell_type": "markdown",
   "metadata": {},
   "source": [
    "**Step 8:** Add your name and email address to the next available line in the README file for each of your groupmates repositories. "
   ]
  },
  {
   "cell_type": "markdown",
   "metadata": {},
   "source": [
    "<font size=6 color=\"#009600\">&#9998;</font> Note any problems you had with the above step (or any questions) here."
   ]
  },
  {
   "cell_type": "markdown",
   "metadata": {},
   "source": [
    "**Step 9:** Add and Commit your change to the server.  NOTE: this step may be tricky if more then one member of the group tries to change the same file at the same time.  This happens often when working with Git repositories! Your job is to manage the file conflicts."
   ]
  },
  {
   "cell_type": "markdown",
   "metadata": {},
   "source": [
    "<font size=6 color=\"#009600\">&#9998;</font> Note any problems you had with the above step (or any questions). Here."
   ]
  },
  {
   "cell_type": "markdown",
   "metadata": {},
   "source": [
    "**Step 10:** Do a git pull for all of your repositories.  If done correctly, each repository will have the names and emails for all of the team members in the README file.  "
   ]
  },
  {
   "cell_type": "markdown",
   "metadata": {},
   "source": [
    "<font size=6 color=\"#009600\">&#9998;</font> Note any problems you had with the above step (or any questions). Here."
   ]
  },
  {
   "cell_type": "markdown",
   "metadata": {},
   "source": [
    "** Question: ** What command(s) should the instructor use to download your group repositories? "
   ]
  },
  {
   "cell_type": "markdown",
   "metadata": {},
   "source": [
    "<font size=8 color=\"#009600\">&#9998;</font> Do This - Erase the contents of this cell and replace it with your answer to the above question!  (double-click on this text to edit this cell, and hit shift+enter to save the text)"
   ]
  },
  {
   "cell_type": "markdown",
   "metadata": {},
   "source": [
    "----\n",
    "\n",
    "# 6. Assignment wrap-up\n",
    "\n",
    "Fill out this Google form before you submit your notebook to D2L!"
   ]
  },
  {
   "cell_type": "code",
   "execution_count": null,
   "metadata": {
    "collapsed": true
   },
   "outputs": [],
   "source": [
    "from IPython.display import HTML\n",
    "HTML(\n",
    "\"\"\"\n",
    "<iframe \n",
    "\tsrc=\"https://goo.gl/forms/1H1Hiym8iIcG5MsJ3\" \n",
    "\twidth=\"80%\" \n",
    "\theight=\"800px\" \n",
    "\tframeborder=\"0\" \n",
    "\tmarginheight=\"0\" \n",
    "\tmarginwidth=\"0\">\n",
    "\tLoading...\n",
    "</iframe>\n",
    "\"\"\"\n",
    ")\n"
   ]
  },
  {
   "cell_type": "markdown",
   "metadata": {},
   "source": [
    "---------\n",
    "### Congratulations, you're done with your in-class assignment!\n",
    "\n",
    "Now, you just need to submit this assignment by uploading it to the course <a href=\"https://d2l.msu.edu/\">Desire2Learn</a> web page for Day 3's in-class dropbox (Don't forget to add all of the appropriate names in the first cell)."
   ]
  },
  {
   "cell_type": "markdown",
   "metadata": {},
   "source": [
    "&#169; Copyright 2017,  Michigan State University Board of Trustees"
   ]
  }
 ],
 "metadata": {
  "anaconda-cloud": {},
  "kernelspec": {
   "display_name": "Python 3",
   "language": "python",
   "name": "python3"
  },
  "language_info": {
   "codemirror_mode": {
    "name": "ipython",
    "version": 3
   },
   "file_extension": ".py",
   "mimetype": "text/x-python",
   "name": "python",
   "nbconvert_exporter": "python",
   "pygments_lexer": "ipython3",
   "version": "3.6.3"
  }
 },
 "nbformat": 4,
 "nbformat_minor": 1
}
